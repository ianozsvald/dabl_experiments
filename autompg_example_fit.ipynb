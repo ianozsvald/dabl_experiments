{
 "cells": [
  {
   "cell_type": "markdown",
   "metadata": {},
   "source": [
    "# Autompg dabl prediction example\n",
    "\n",
    "**TODO** add a plot of y vs yhat"
   ]
  },
  {
   "cell_type": "code",
   "execution_count": 1,
   "metadata": {},
   "outputs": [],
   "source": [
    "import datetime\n",
    "import pandas as pd\n",
    "import dabl\n",
    "import numpy as np\n",
    "import seaborn as sns\n",
    "import matplotlib.pyplot as plt\n",
    "from sklearn.model_selection import train_test_split\n"
   ]
  },
  {
   "cell_type": "code",
   "execution_count": 2,
   "metadata": {},
   "outputs": [
    {
     "name": "stdout",
     "output_type": "stream",
     "text": [
      "CPython 3.7.6\n",
      "IPython 7.11.1\n",
      "\n",
      "pandas 1.0.0\n",
      "seaborn 0.9.0\n",
      "matplotlib 3.1.2\n",
      "sklearn 0.22.1\n",
      "dabl 0.1.6\n",
      "\n",
      "compiler   : GCC 7.3.0\n",
      "system     : Linux\n",
      "release    : 5.3.0-24-generic\n",
      "machine    : x86_64\n",
      "processor  : x86_64\n",
      "CPU cores  : 8\n",
      "interpreter: 64bit\n",
      "Git hash   : 3294f1209b3c9bf101d17e6486c26bdf6673a582\n"
     ]
    }
   ],
   "source": [
    "%load_ext watermark\n",
    "%watermark -p pandas,seaborn,matplotlib,sklearn,dabl -v -m -g"
   ]
  },
  {
   "cell_type": "markdown",
   "metadata": {},
   "source": [
    "# Load autompg dataset\n",
    "\n",
    "**NOTE** dabl doesn't seem to like NaN values for the SimpleRegressor"
   ]
  },
  {
   "cell_type": "code",
   "execution_count": 3,
   "metadata": {},
   "outputs": [
    {
     "name": "stdout",
     "output_type": "stream",
     "text": [
      "Original shape (406, 9)\n",
      "Shape after dropping NaN: (392, 9)\n"
     ]
    },
    {
     "data": {
      "text/html": [
       "<div>\n",
       "<style scoped>\n",
       "    .dataframe tbody tr th:only-of-type {\n",
       "        vertical-align: middle;\n",
       "    }\n",
       "\n",
       "    .dataframe tbody tr th {\n",
       "        vertical-align: top;\n",
       "    }\n",
       "\n",
       "    .dataframe thead th {\n",
       "        text-align: right;\n",
       "    }\n",
       "</style>\n",
       "<table border=\"1\" class=\"dataframe\">\n",
       "  <thead>\n",
       "    <tr style=\"text-align: right;\">\n",
       "      <th></th>\n",
       "      <th>mpg</th>\n",
       "      <th>cylinders</th>\n",
       "      <th>displacement</th>\n",
       "      <th>hp</th>\n",
       "      <th>weight</th>\n",
       "      <th>acceleration</th>\n",
       "      <th>year</th>\n",
       "      <th>territory</th>\n",
       "      <th>carname</th>\n",
       "    </tr>\n",
       "  </thead>\n",
       "  <tbody>\n",
       "    <tr>\n",
       "      <th>0</th>\n",
       "      <td>18.0</td>\n",
       "      <td>8.0</td>\n",
       "      <td>307.0</td>\n",
       "      <td>130.0</td>\n",
       "      <td>3504.0</td>\n",
       "      <td>12.0</td>\n",
       "      <td>1970</td>\n",
       "      <td>USA</td>\n",
       "      <td>chevrolet chevelle malibu</td>\n",
       "    </tr>\n",
       "    <tr>\n",
       "      <th>1</th>\n",
       "      <td>15.0</td>\n",
       "      <td>8.0</td>\n",
       "      <td>350.0</td>\n",
       "      <td>165.0</td>\n",
       "      <td>3693.0</td>\n",
       "      <td>11.5</td>\n",
       "      <td>1970</td>\n",
       "      <td>USA</td>\n",
       "      <td>buick skylark 320</td>\n",
       "    </tr>\n",
       "    <tr>\n",
       "      <th>2</th>\n",
       "      <td>18.0</td>\n",
       "      <td>8.0</td>\n",
       "      <td>318.0</td>\n",
       "      <td>150.0</td>\n",
       "      <td>3436.0</td>\n",
       "      <td>11.0</td>\n",
       "      <td>1970</td>\n",
       "      <td>USA</td>\n",
       "      <td>plymouth satellite</td>\n",
       "    </tr>\n",
       "    <tr>\n",
       "      <th>3</th>\n",
       "      <td>16.0</td>\n",
       "      <td>8.0</td>\n",
       "      <td>304.0</td>\n",
       "      <td>150.0</td>\n",
       "      <td>3433.0</td>\n",
       "      <td>12.0</td>\n",
       "      <td>1970</td>\n",
       "      <td>USA</td>\n",
       "      <td>amc rebel sst</td>\n",
       "    </tr>\n",
       "    <tr>\n",
       "      <th>4</th>\n",
       "      <td>17.0</td>\n",
       "      <td>8.0</td>\n",
       "      <td>302.0</td>\n",
       "      <td>140.0</td>\n",
       "      <td>3449.0</td>\n",
       "      <td>10.5</td>\n",
       "      <td>1970</td>\n",
       "      <td>USA</td>\n",
       "      <td>ford torino</td>\n",
       "    </tr>\n",
       "  </tbody>\n",
       "</table>\n",
       "</div>"
      ],
      "text/plain": [
       "    mpg  cylinders  displacement     hp  weight  acceleration  year territory  \\\n",
       "0  18.0        8.0         307.0  130.0  3504.0          12.0  1970       USA   \n",
       "1  15.0        8.0         350.0  165.0  3693.0          11.5  1970       USA   \n",
       "2  18.0        8.0         318.0  150.0  3436.0          11.0  1970       USA   \n",
       "3  16.0        8.0         304.0  150.0  3433.0          12.0  1970       USA   \n",
       "4  17.0        8.0         302.0  140.0  3449.0          10.5  1970       USA   \n",
       "\n",
       "                     carname  \n",
       "0  chevrolet chevelle malibu  \n",
       "1          buick skylark 320  \n",
       "2         plymouth satellite  \n",
       "3              amc rebel sst  \n",
       "4                ford torino  "
      ]
     },
     "execution_count": 3,
     "metadata": {},
     "output_type": "execute_result"
    }
   ],
   "source": [
    "df_raw = pd.read_csv('autompg.csv')\n",
    "print(f\"Original shape {df_raw.shape}\")\n",
    "df = df_raw.dropna()\n",
    "#df = df_raw\n",
    "print(f\"Shape after dropping NaN: {df.shape}\")\n",
    "df.head()"
   ]
  },
  {
   "cell_type": "code",
   "execution_count": 4,
   "metadata": {},
   "outputs": [
    {
     "name": "stdout",
     "output_type": "stream",
     "text": [
      "Detected feature types:\n",
      "3 float, 4 int, 2 object, 0 date, 0 other\n",
      "Interpreted as:\n",
      "continuous      5\n",
      "dirty_float     0\n",
      "low_card_int    1\n",
      "categorical     2\n",
      "date            0\n",
      "free_string     1\n",
      "useless         0\n",
      "dtype: int64\n"
     ]
    },
    {
     "data": {
      "text/plain": [
       "(392, 9)"
      ]
     },
     "execution_count": 4,
     "metadata": {},
     "output_type": "execute_result"
    }
   ],
   "source": [
    "df = dabl.clean(df, verbose=1)\n",
    "df.shape"
   ]
  },
  {
   "cell_type": "code",
   "execution_count": 5,
   "metadata": {},
   "outputs": [
    {
     "data": {
      "text/html": [
       "<style  type=\"text/css\" >\n",
       "    #T_77d4f9a0_435d_11ea_a557_a434d96d0ef2row0_col0 {\n",
       "            background-color:  lightgreen;\n",
       "        }    #T_77d4f9a0_435d_11ea_a557_a434d96d0ef2row1_col3 {\n",
       "            background-color:  lightgreen;\n",
       "        }    #T_77d4f9a0_435d_11ea_a557_a434d96d0ef2row2_col0 {\n",
       "            background-color:  lightgreen;\n",
       "        }    #T_77d4f9a0_435d_11ea_a557_a434d96d0ef2row3_col0 {\n",
       "            background-color:  lightgreen;\n",
       "        }    #T_77d4f9a0_435d_11ea_a557_a434d96d0ef2row4_col0 {\n",
       "            background-color:  lightgreen;\n",
       "        }    #T_77d4f9a0_435d_11ea_a557_a434d96d0ef2row5_col0 {\n",
       "            background-color:  lightgreen;\n",
       "        }    #T_77d4f9a0_435d_11ea_a557_a434d96d0ef2row6_col2 {\n",
       "            background-color:  lightgreen;\n",
       "        }    #T_77d4f9a0_435d_11ea_a557_a434d96d0ef2row7_col3 {\n",
       "            background-color:  lightgreen;\n",
       "        }    #T_77d4f9a0_435d_11ea_a557_a434d96d0ef2row8_col5 {\n",
       "            background-color:  lightgreen;\n",
       "        }</style><table id=\"T_77d4f9a0_435d_11ea_a557_a434d96d0ef2\" ><thead>    <tr>        <th class=\"blank level0\" ></th>        <th class=\"col_heading level0 col0\" >continuous</th>        <th class=\"col_heading level0 col1\" >dirty_float</th>        <th class=\"col_heading level0 col2\" >low_card_int</th>        <th class=\"col_heading level0 col3\" >categorical</th>        <th class=\"col_heading level0 col4\" >date</th>        <th class=\"col_heading level0 col5\" >free_string</th>        <th class=\"col_heading level0 col6\" >useless</th>    </tr></thead><tbody>\n",
       "                <tr>\n",
       "                        <th id=\"T_77d4f9a0_435d_11ea_a557_a434d96d0ef2level0_row0\" class=\"row_heading level0 row0\" >mpg</th>\n",
       "                        <td id=\"T_77d4f9a0_435d_11ea_a557_a434d96d0ef2row0_col0\" class=\"data row0 col0\" >1</td>\n",
       "                        <td id=\"T_77d4f9a0_435d_11ea_a557_a434d96d0ef2row0_col1\" class=\"data row0 col1\" >0</td>\n",
       "                        <td id=\"T_77d4f9a0_435d_11ea_a557_a434d96d0ef2row0_col2\" class=\"data row0 col2\" >0</td>\n",
       "                        <td id=\"T_77d4f9a0_435d_11ea_a557_a434d96d0ef2row0_col3\" class=\"data row0 col3\" >0</td>\n",
       "                        <td id=\"T_77d4f9a0_435d_11ea_a557_a434d96d0ef2row0_col4\" class=\"data row0 col4\" >0</td>\n",
       "                        <td id=\"T_77d4f9a0_435d_11ea_a557_a434d96d0ef2row0_col5\" class=\"data row0 col5\" >0</td>\n",
       "                        <td id=\"T_77d4f9a0_435d_11ea_a557_a434d96d0ef2row0_col6\" class=\"data row0 col6\" >0</td>\n",
       "            </tr>\n",
       "            <tr>\n",
       "                        <th id=\"T_77d4f9a0_435d_11ea_a557_a434d96d0ef2level0_row1\" class=\"row_heading level0 row1\" >cylinders</th>\n",
       "                        <td id=\"T_77d4f9a0_435d_11ea_a557_a434d96d0ef2row1_col0\" class=\"data row1 col0\" >0</td>\n",
       "                        <td id=\"T_77d4f9a0_435d_11ea_a557_a434d96d0ef2row1_col1\" class=\"data row1 col1\" >0</td>\n",
       "                        <td id=\"T_77d4f9a0_435d_11ea_a557_a434d96d0ef2row1_col2\" class=\"data row1 col2\" >0</td>\n",
       "                        <td id=\"T_77d4f9a0_435d_11ea_a557_a434d96d0ef2row1_col3\" class=\"data row1 col3\" >1</td>\n",
       "                        <td id=\"T_77d4f9a0_435d_11ea_a557_a434d96d0ef2row1_col4\" class=\"data row1 col4\" >0</td>\n",
       "                        <td id=\"T_77d4f9a0_435d_11ea_a557_a434d96d0ef2row1_col5\" class=\"data row1 col5\" >0</td>\n",
       "                        <td id=\"T_77d4f9a0_435d_11ea_a557_a434d96d0ef2row1_col6\" class=\"data row1 col6\" >0</td>\n",
       "            </tr>\n",
       "            <tr>\n",
       "                        <th id=\"T_77d4f9a0_435d_11ea_a557_a434d96d0ef2level0_row2\" class=\"row_heading level0 row2\" >displacement</th>\n",
       "                        <td id=\"T_77d4f9a0_435d_11ea_a557_a434d96d0ef2row2_col0\" class=\"data row2 col0\" >1</td>\n",
       "                        <td id=\"T_77d4f9a0_435d_11ea_a557_a434d96d0ef2row2_col1\" class=\"data row2 col1\" >0</td>\n",
       "                        <td id=\"T_77d4f9a0_435d_11ea_a557_a434d96d0ef2row2_col2\" class=\"data row2 col2\" >0</td>\n",
       "                        <td id=\"T_77d4f9a0_435d_11ea_a557_a434d96d0ef2row2_col3\" class=\"data row2 col3\" >0</td>\n",
       "                        <td id=\"T_77d4f9a0_435d_11ea_a557_a434d96d0ef2row2_col4\" class=\"data row2 col4\" >0</td>\n",
       "                        <td id=\"T_77d4f9a0_435d_11ea_a557_a434d96d0ef2row2_col5\" class=\"data row2 col5\" >0</td>\n",
       "                        <td id=\"T_77d4f9a0_435d_11ea_a557_a434d96d0ef2row2_col6\" class=\"data row2 col6\" >0</td>\n",
       "            </tr>\n",
       "            <tr>\n",
       "                        <th id=\"T_77d4f9a0_435d_11ea_a557_a434d96d0ef2level0_row3\" class=\"row_heading level0 row3\" >hp</th>\n",
       "                        <td id=\"T_77d4f9a0_435d_11ea_a557_a434d96d0ef2row3_col0\" class=\"data row3 col0\" >1</td>\n",
       "                        <td id=\"T_77d4f9a0_435d_11ea_a557_a434d96d0ef2row3_col1\" class=\"data row3 col1\" >0</td>\n",
       "                        <td id=\"T_77d4f9a0_435d_11ea_a557_a434d96d0ef2row3_col2\" class=\"data row3 col2\" >0</td>\n",
       "                        <td id=\"T_77d4f9a0_435d_11ea_a557_a434d96d0ef2row3_col3\" class=\"data row3 col3\" >0</td>\n",
       "                        <td id=\"T_77d4f9a0_435d_11ea_a557_a434d96d0ef2row3_col4\" class=\"data row3 col4\" >0</td>\n",
       "                        <td id=\"T_77d4f9a0_435d_11ea_a557_a434d96d0ef2row3_col5\" class=\"data row3 col5\" >0</td>\n",
       "                        <td id=\"T_77d4f9a0_435d_11ea_a557_a434d96d0ef2row3_col6\" class=\"data row3 col6\" >0</td>\n",
       "            </tr>\n",
       "            <tr>\n",
       "                        <th id=\"T_77d4f9a0_435d_11ea_a557_a434d96d0ef2level0_row4\" class=\"row_heading level0 row4\" >weight</th>\n",
       "                        <td id=\"T_77d4f9a0_435d_11ea_a557_a434d96d0ef2row4_col0\" class=\"data row4 col0\" >1</td>\n",
       "                        <td id=\"T_77d4f9a0_435d_11ea_a557_a434d96d0ef2row4_col1\" class=\"data row4 col1\" >0</td>\n",
       "                        <td id=\"T_77d4f9a0_435d_11ea_a557_a434d96d0ef2row4_col2\" class=\"data row4 col2\" >0</td>\n",
       "                        <td id=\"T_77d4f9a0_435d_11ea_a557_a434d96d0ef2row4_col3\" class=\"data row4 col3\" >0</td>\n",
       "                        <td id=\"T_77d4f9a0_435d_11ea_a557_a434d96d0ef2row4_col4\" class=\"data row4 col4\" >0</td>\n",
       "                        <td id=\"T_77d4f9a0_435d_11ea_a557_a434d96d0ef2row4_col5\" class=\"data row4 col5\" >0</td>\n",
       "                        <td id=\"T_77d4f9a0_435d_11ea_a557_a434d96d0ef2row4_col6\" class=\"data row4 col6\" >0</td>\n",
       "            </tr>\n",
       "            <tr>\n",
       "                        <th id=\"T_77d4f9a0_435d_11ea_a557_a434d96d0ef2level0_row5\" class=\"row_heading level0 row5\" >acceleration</th>\n",
       "                        <td id=\"T_77d4f9a0_435d_11ea_a557_a434d96d0ef2row5_col0\" class=\"data row5 col0\" >1</td>\n",
       "                        <td id=\"T_77d4f9a0_435d_11ea_a557_a434d96d0ef2row5_col1\" class=\"data row5 col1\" >0</td>\n",
       "                        <td id=\"T_77d4f9a0_435d_11ea_a557_a434d96d0ef2row5_col2\" class=\"data row5 col2\" >0</td>\n",
       "                        <td id=\"T_77d4f9a0_435d_11ea_a557_a434d96d0ef2row5_col3\" class=\"data row5 col3\" >0</td>\n",
       "                        <td id=\"T_77d4f9a0_435d_11ea_a557_a434d96d0ef2row5_col4\" class=\"data row5 col4\" >0</td>\n",
       "                        <td id=\"T_77d4f9a0_435d_11ea_a557_a434d96d0ef2row5_col5\" class=\"data row5 col5\" >0</td>\n",
       "                        <td id=\"T_77d4f9a0_435d_11ea_a557_a434d96d0ef2row5_col6\" class=\"data row5 col6\" >0</td>\n",
       "            </tr>\n",
       "            <tr>\n",
       "                        <th id=\"T_77d4f9a0_435d_11ea_a557_a434d96d0ef2level0_row6\" class=\"row_heading level0 row6\" >year</th>\n",
       "                        <td id=\"T_77d4f9a0_435d_11ea_a557_a434d96d0ef2row6_col0\" class=\"data row6 col0\" >0</td>\n",
       "                        <td id=\"T_77d4f9a0_435d_11ea_a557_a434d96d0ef2row6_col1\" class=\"data row6 col1\" >0</td>\n",
       "                        <td id=\"T_77d4f9a0_435d_11ea_a557_a434d96d0ef2row6_col2\" class=\"data row6 col2\" >1</td>\n",
       "                        <td id=\"T_77d4f9a0_435d_11ea_a557_a434d96d0ef2row6_col3\" class=\"data row6 col3\" >0</td>\n",
       "                        <td id=\"T_77d4f9a0_435d_11ea_a557_a434d96d0ef2row6_col4\" class=\"data row6 col4\" >0</td>\n",
       "                        <td id=\"T_77d4f9a0_435d_11ea_a557_a434d96d0ef2row6_col5\" class=\"data row6 col5\" >0</td>\n",
       "                        <td id=\"T_77d4f9a0_435d_11ea_a557_a434d96d0ef2row6_col6\" class=\"data row6 col6\" >0</td>\n",
       "            </tr>\n",
       "            <tr>\n",
       "                        <th id=\"T_77d4f9a0_435d_11ea_a557_a434d96d0ef2level0_row7\" class=\"row_heading level0 row7\" >territory</th>\n",
       "                        <td id=\"T_77d4f9a0_435d_11ea_a557_a434d96d0ef2row7_col0\" class=\"data row7 col0\" >0</td>\n",
       "                        <td id=\"T_77d4f9a0_435d_11ea_a557_a434d96d0ef2row7_col1\" class=\"data row7 col1\" >0</td>\n",
       "                        <td id=\"T_77d4f9a0_435d_11ea_a557_a434d96d0ef2row7_col2\" class=\"data row7 col2\" >0</td>\n",
       "                        <td id=\"T_77d4f9a0_435d_11ea_a557_a434d96d0ef2row7_col3\" class=\"data row7 col3\" >1</td>\n",
       "                        <td id=\"T_77d4f9a0_435d_11ea_a557_a434d96d0ef2row7_col4\" class=\"data row7 col4\" >0</td>\n",
       "                        <td id=\"T_77d4f9a0_435d_11ea_a557_a434d96d0ef2row7_col5\" class=\"data row7 col5\" >0</td>\n",
       "                        <td id=\"T_77d4f9a0_435d_11ea_a557_a434d96d0ef2row7_col6\" class=\"data row7 col6\" >0</td>\n",
       "            </tr>\n",
       "            <tr>\n",
       "                        <th id=\"T_77d4f9a0_435d_11ea_a557_a434d96d0ef2level0_row8\" class=\"row_heading level0 row8\" >carname</th>\n",
       "                        <td id=\"T_77d4f9a0_435d_11ea_a557_a434d96d0ef2row8_col0\" class=\"data row8 col0\" >0</td>\n",
       "                        <td id=\"T_77d4f9a0_435d_11ea_a557_a434d96d0ef2row8_col1\" class=\"data row8 col1\" >0</td>\n",
       "                        <td id=\"T_77d4f9a0_435d_11ea_a557_a434d96d0ef2row8_col2\" class=\"data row8 col2\" >0</td>\n",
       "                        <td id=\"T_77d4f9a0_435d_11ea_a557_a434d96d0ef2row8_col3\" class=\"data row8 col3\" >0</td>\n",
       "                        <td id=\"T_77d4f9a0_435d_11ea_a557_a434d96d0ef2row8_col4\" class=\"data row8 col4\" >0</td>\n",
       "                        <td id=\"T_77d4f9a0_435d_11ea_a557_a434d96d0ef2row8_col5\" class=\"data row8 col5\" >1</td>\n",
       "                        <td id=\"T_77d4f9a0_435d_11ea_a557_a434d96d0ef2row8_col6\" class=\"data row8 col6\" >0</td>\n",
       "            </tr>\n",
       "    </tbody></table>"
      ],
      "text/plain": [
       "<pandas.io.formats.style.Styler at 0x7fbf58d20990>"
      ]
     },
     "execution_count": 5,
     "metadata": {},
     "output_type": "execute_result"
    }
   ],
   "source": [
    "types = dabl.detect_types(df)\n",
    "#types.style.highlight_max(color='lightgreen') # note this doesn't work on bools!\n",
    "types.astype(np.int_).style.highlight_max(color='lightgreen', axis=1)"
   ]
  },
  {
   "cell_type": "code",
   "execution_count": 6,
   "metadata": {},
   "outputs": [
    {
     "data": {
      "text/plain": [
       "['cylinders',\n",
       " 'displacement',\n",
       " 'hp',\n",
       " 'weight',\n",
       " 'acceleration',\n",
       " 'year',\n",
       " 'territory']"
      ]
     },
     "execution_count": 6,
     "metadata": {},
     "output_type": "execute_result"
    }
   ],
   "source": [
    "target = 'mpg'\n",
    "columns = list(df.columns)\n",
    "columns.remove(target)\n",
    "columns.remove('carname')\n",
    "columns"
   ]
  },
  {
   "cell_type": "code",
   "execution_count": 7,
   "metadata": {},
   "outputs": [
    {
     "name": "stdout",
     "output_type": "stream",
     "text": [
      "Running DummyRegressor()\n",
      "r2: -0.008 neg_mean_squared_error: -57.376\n",
      "=== new best DummyRegressor() (using r2):\n",
      "r2: -0.008 neg_mean_squared_error: -57.376\n",
      "\n",
      "Running DecisionTreeRegressor(max_depth=1)\n",
      "r2: 0.566 neg_mean_squared_error: -24.885\n",
      "=== new best DecisionTreeRegressor(max_depth=1) (using r2):\n",
      "r2: 0.566 neg_mean_squared_error: -24.885\n",
      "\n",
      "Running DecisionTreeRegressor(max_depth=5)\n",
      "r2: 0.803 neg_mean_squared_error: -11.277\n",
      "=== new best DecisionTreeRegressor(max_depth=5) (using r2):\n",
      "r2: 0.803 neg_mean_squared_error: -11.277\n",
      "\n",
      "Running Ridge(alpha=10)\n",
      "r2: 0.842 neg_mean_squared_error: -9.033\n",
      "=== new best Ridge(alpha=10) (using r2):\n",
      "r2: 0.842 neg_mean_squared_error: -9.033\n",
      "\n",
      "Running Lasso(alpha=10)\n",
      "r2: -0.008 neg_mean_squared_error: -57.376\n",
      "\n",
      "Best model:\n",
      "Ridge(alpha=10)\n",
      "Best Scores:\n",
      "r2: 0.842 neg_mean_squared_error: -9.033\n"
     ]
    }
   ],
   "source": [
    "X = df[columns]\n",
    "y = df[target]\n",
    "X_train, X_test, y_train, y_test = train_test_split(X, y, random_state=1)\n",
    "\n",
    "sc = dabl.SimpleRegressor().fit(X_train, y_train)"
   ]
  },
  {
   "cell_type": "code",
   "execution_count": 11,
   "metadata": {},
   "outputs": [
    {
     "data": {
      "text/plain": [
       "Pipeline(memory=None,\n",
       "         steps=[('easypreprocessor',\n",
       "                 EasyPreprocessor(force_imputation=True, scale=True,\n",
       "                                  types=              continuous  dirty_float  low_card_int  categorical   date  \\\n",
       "cylinders          False        False         False         True  False   \n",
       "displacement        True        False         False        False  False   \n",
       "hp                  True        False         False        False  False   \n",
       "weight              True        False         False        False  False   \n",
       "acceleration        True        False         False        False  False   \n",
       "year               False        False          True        False  False   \n",
       "territory          False        False         False         True  False   \n",
       "\n",
       "              free_string  useless  \n",
       "cylinders           False    False  \n",
       "displacement        False    False  \n",
       "hp                  False    False  \n",
       "weight              False    False  \n",
       "acceleration        False    False  \n",
       "year                False    False  \n",
       "territory           False    False  ,\n",
       "                                  verbose=0)),\n",
       "                ('ridge',\n",
       "                 Ridge(alpha=10, copy_X=True, fit_intercept=True, max_iter=None,\n",
       "                       normalize=False, random_state=None, solver='auto',\n",
       "                       tol=0.001))],\n",
       "         verbose=False)"
      ]
     },
     "execution_count": 11,
     "metadata": {},
     "output_type": "execute_result"
    }
   ],
   "source": [
    "sc.est_"
   ]
  },
  {
   "cell_type": "code",
   "execution_count": 33,
   "metadata": {},
   "outputs": [
    {
     "data": {
      "text/plain": [
       "['displacement', 'hp', 'weight']"
      ]
     },
     "execution_count": 33,
     "metadata": {},
     "output_type": "execute_result"
    }
   ],
   "source": [
    "easy_preprocessor = sc.est_[0]\n",
    "feature_names = easy_preprocessor.get_feature_names()\n",
    "feature_names[:3]\n",
    "#dir(easy_preprocessor)"
   ]
  },
  {
   "cell_type": "code",
   "execution_count": 32,
   "metadata": {},
   "outputs": [
    {
     "data": {
      "image/png": "[encoded data removed]",
      "text/plain": [
       "<Figure size 576x432 with 1 Axes>"
      ]
     },
     "metadata": {
      "needs_background": "light"
     },
     "output_type": "display_data"
    }
   ],
   "source": [
    "e=sc.est_[1]\n",
    "fig, ax = plt.subplots(figsize=(8, 6))\n",
    "ax = pd.DataFrame({'features': feature_names, 'coef': e.coef_}) \\\n",
    ".set_index('features') \\\n",
    ".sort_values('coef').plot(kind='barh', ax=ax);\n",
    "ax.set_title(f'Target: {target}');"
   ]
  },
  {
   "cell_type": "code",
   "execution_count": 8,
   "metadata": {},
   "outputs": [
    {
     "name": "stdout",
     "output_type": "stream",
     "text": [
      "Notebook completed on 2020-01-30 12:38:51.286081\n"
     ]
    }
   ],
   "source": [
    "print(f\"Notebook completed on {datetime.datetime.now()}\")"
   ]
  }
 ],
 "metadata": {
  "kernelspec": {
   "display_name": "Python 3",
   "language": "python",
   "name": "python3"
  },
  "language_info": {
   "codemirror_mode": {
    "name": "ipython",
    "version": 3
   },
   "file_extension": ".py",
   "mimetype": "text/x-python",
   "name": "python",
   "nbconvert_exporter": "python",
   "pygments_lexer": "ipython3",
   "version": "3.7.6"
  }
 },
 "nbformat": 4,
 "nbformat_minor": 4
}
